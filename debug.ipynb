{
 "cells": [
  {
   "cell_type": "code",
   "execution_count": 4,
   "metadata": {},
   "outputs": [],
   "source": [
    "IMG_SHAPE = [1, 1, 32, 32]\n",
    "N_RESIDUAL = 4\n",
    "ADAM_PARAMS = {\"lr\": 1e-4, \"betas\": (0.5, 0.9)}"
   ]
  },
  {
   "cell_type": "code",
   "execution_count": 1,
   "metadata": {},
   "outputs": [],
   "source": [
    "import torch\n",
    "from torch import nn, optim, autograd\n",
    "\n",
    "import numpy as np\n",
    "\n",
    "import matplotlib.pyplot as plt\n",
    "%matplotlib inline\n",
    "\n",
    "# device agnostic code\n",
    "device = torch.device(\"cuda:0\" if torch.cuda.is_available() else \"cpu\")"
   ]
  },
  {
   "cell_type": "code",
   "execution_count": 55,
   "metadata": {},
   "outputs": [],
   "source": [
    "class ResBlock(nn.Module):\n",
    "\n",
    "    def __init__(self, n_filter=64):\n",
    "        super(ResBlock, self).__init__()\n",
    "\n",
    "        self.res_block = nn.Sequential(\n",
    "            nn.ReLU(True),\n",
    "            nn.Conv2d(n_filter, n_filter, 5, padding=2),#nn.Linear(DIM, DIM),\n",
    "            nn.ReLU(True),\n",
    "            nn.Conv2d(n_filter, n_filter, 5, padding=2),#nn.Linear(DIM, DIM),\n",
    "        )\n",
    "\n",
    "    def forward(self, input):\n",
    "        output = self.res_block(input)\n",
    "        return input + (0.3*output)"
   ]
  },
  {
   "cell_type": "code",
   "execution_count": 56,
   "metadata": {},
   "outputs": [],
   "source": [
    "class Discriminator(nn.Module):\n",
    "    def __init__(self, input_shape, wasserstein=True, n_filter=64):\n",
    "        super(self.__class__, self).__init__()\n",
    "        \n",
    "        self.input_shape = input_shape\n",
    "        \n",
    "        self.wasserstein = wasserstein\n",
    "        self.n_filter = n_filter\n",
    "        \n",
    "        self.layers = nn.Sequential(\n",
    "            nn.Conv2d(input_shape[1], n_filter, 3, padding=1),\n",
    "            \n",
    "            nn.Sequential(\n",
    "                *[\n",
    "                    nn.Sequential(\n",
    "                        nn.Conv2d(n_filter, n_filter, 3, padding=1),\n",
    "                        nn.BatchNorm2d(n_filter),\n",
    "                        nn.LeakyReLU()\n",
    "                    )\n",
    "\n",
    "                    for _ in range(7)\n",
    "                ]\n",
    "            )\n",
    "        )\n",
    "        \n",
    "        _, chan, x, y = input_shape\n",
    "        \n",
    "        self.linear = nn.Sequential(\n",
    "            nn.Linear(x * y * n_filter, 1024),\n",
    "            nn.Sequential(nn.Linear(1024, 1)) if wasserstein else nn.Sequential(nn.Linear(1024, 1), nn.Sigmoid())\n",
    "        )\n",
    "                \n",
    "    def forward(self, input):\n",
    "        _, _, x, y = self.input_shape\n",
    "        \n",
    "        hid = self.layers(input).view(-1, x * y * self.n_filter)\n",
    "        out = self.linear(hid)\n",
    "        \n",
    "        return out"
   ]
  },
  {
   "cell_type": "code",
   "execution_count": 57,
   "metadata": {},
   "outputs": [],
   "source": [
    "discA = Discriminator(IMG_SHAPE).cuda()"
   ]
  },
  {
   "cell_type": "code",
   "execution_count": 2,
   "metadata": {},
   "outputs": [],
   "source": [
    "from lib.pic2tensor import pics2array\n",
    "import matplotlib.pyplot as plt\n",
    "%matplotlib inline\n",
    "\n",
    "import os"
   ]
  },
  {
   "cell_type": "code",
   "execution_count": 5,
   "metadata": {},
   "outputs": [],
   "source": [
    "x_dir = \"datasets/notMNIST_small/A/\"\n",
    "y_dir = \"datasets/notMNIST_small/B/\"\n",
    "\n",
    "X = np.array(pics2array(x_dir, os.listdir(x_dir), IMG_SHAPE[2:]), dtype=\"float32\")[:, np.newaxis, :, :] / 255.\n",
    "Y = np.array(pics2array(y_dir, os.listdir(y_dir), IMG_SHAPE[2:]), dtype=\"float32\")[:, np.newaxis, :, :] / 255."
   ]
  },
  {
   "cell_type": "code",
   "execution_count": 84,
   "metadata": {},
   "outputs": [],
   "source": [
    "def gradient_penalty(disc, real_data, generated_data, device=device):\n",
    "    batch_size = real_data.size(0)\n",
    "    \n",
    "    epsilon = torch.rand(batch_size, 1, device=device, requires_grad=True)\n",
    "    epsilon_exp = epsilon.expand(batch_size, real_data.nelement()/batch_size).contiguous().view(real_data.size())\n",
    "    \n",
    "    interpolates = epsilon_exp * real_data + (1 - epsilon_exp) * generated_data\n",
    "    \n",
    "    disc_interpolates = disc(interpolates)\n",
    "    \n",
    "    gradients = autograd.grad(outputs=disc_interpolates.mean(), \n",
    "                              inputs=interpolates, \n",
    "                              create_graph=True, retain_graph=True\n",
    "    )[0]\n",
    "    \n",
    "    gradients = gradients.view(gradients.size(0), -1)\n",
    "     \n",
    "    return ((gradients.norm(2, dim=1) - 1) ** 2).mean()"
   ]
  },
  {
   "cell_type": "code",
   "execution_count": 85,
   "metadata": {},
   "outputs": [
    {
     "data": {
      "text/plain": [
       "tensor(2.5898, device='cuda:0')"
      ]
     },
     "execution_count": 85,
     "metadata": {},
     "output_type": "execute_result"
    }
   ],
   "source": [
    "def "
   ]
  },
  {
   "cell_type": "code",
   "execution_count": null,
   "metadata": {},
   "outputs": [],
   "source": []
  }
 ],
 "metadata": {
  "kernelspec": {
   "display_name": "Python 3",
   "language": "python",
   "name": "python3"
  },
  "language_info": {
   "codemirror_mode": {
    "name": "ipython",
    "version": 3
   },
   "file_extension": ".py",
   "mimetype": "text/x-python",
   "name": "python",
   "nbconvert_exporter": "python",
   "pygments_lexer": "ipython3",
   "version": "3.6.4"
  }
 },
 "nbformat": 4,
 "nbformat_minor": 2
}
