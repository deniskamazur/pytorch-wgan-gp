{
 "cells": [
  {
   "cell_type": "code",
   "execution_count": 1,
   "metadata": {},
   "outputs": [],
   "source": [
    "import torch\n",
    "from torch import nn, optim, autograd\n",
    "\n",
    "import numpy as np\n",
    "\n",
    "import matplotlib.pyplot as plt\n",
    "%matplotlib inline\n",
    "\n",
    "# device agnostic code\n",
    "device = torch.device(\"cuda:0\" if torch.cuda.is_available() else \"cpu\")"
   ]
  },
  {
   "cell_type": "markdown",
   "metadata": {},
   "source": [
    "## Define models"
   ]
  },
  {
   "cell_type": "code",
   "execution_count": 2,
   "metadata": {},
   "outputs": [],
   "source": [
    "class ResBlock(nn.Module):\n",
    "\n",
    "    def __init__(self, n_filter=64):\n",
    "        super(ResBlock, self).__init__()\n",
    "\n",
    "        self.res_block = nn.Sequential(\n",
    "            nn.ReLU(True),\n",
    "            nn.Conv2d(n_filter, n_filter, 5, padding=2),#nn.Linear(DIM, DIM),\n",
    "            nn.ReLU(True),\n",
    "            nn.Conv2d(n_filter, n_filter, 5, padding=2),#nn.Linear(DIM, DIM),\n",
    "        )\n",
    "\n",
    "    def forward(self, input):\n",
    "        output = self.res_block(input)\n",
    "        return input + (0.3*output)"
   ]
  },
  {
   "cell_type": "code",
   "execution_count": 3,
   "metadata": {},
   "outputs": [],
   "source": [
    "class ResGenerator(nn.Module):\n",
    "    def __init__(self, input_shape, n_filter=64, n_residual=7):\n",
    "        super(self.__class__, self).__init__()\n",
    "        \n",
    "        self.input_shape = input_shape\n",
    "        self.n_filter = n_filter\n",
    "        \n",
    "        self.conv1 = nn.Sequential(\n",
    "            nn.Conv2d(self.input_shape[1], n_filter, 9, padding=4),\n",
    "            nn.LeakyReLU()\n",
    "        )\n",
    "        \n",
    "        self.residual = nn.Sequential(\n",
    "            *[ResBlock() for _ in range(n_residual)]\n",
    "        )\n",
    "        \n",
    "        self.conv2 = nn.Sequential(\n",
    "            nn.Conv2d(n_filter, n_filter, 3, padding=1),\n",
    "            nn.BatchNorm2d(n_filter),\n",
    "        )\n",
    "        \n",
    "        self.out = nn.Sequential(\n",
    "            nn.Conv2d(n_filter, self.input_shape[1], 3, padding=1),\n",
    "            nn.Tanh()\n",
    "        )\n",
    "        \n",
    "    def forward(self, input):\n",
    "        conv1 = self.conv1(input)\n",
    "        res = self.residual(conv1)\n",
    "        conv2 = self.conv2(res)\n",
    "        out = self.out(conv2)\n",
    "        \n",
    "        return out"
   ]
  },
  {
   "cell_type": "code",
   "execution_count": 4,
   "metadata": {},
   "outputs": [],
   "source": [
    "class Discriminator(nn.Module):\n",
    "    def __init__(self, input_shape, wasserstein=True, n_filter=64):\n",
    "        super(self.__class__, self).__init__()\n",
    "        \n",
    "        self.input_shape = input_shape\n",
    "        \n",
    "        self.wasserstein = wasserstein\n",
    "        self.n_filter = n_filter\n",
    "        \n",
    "        self.layers = nn.Sequential(\n",
    "            nn.Conv2d(input_shape[1], n_filter, 3, padding=1),\n",
    "            \n",
    "            nn.Sequential(\n",
    "                *[\n",
    "                    nn.Sequential(\n",
    "                        nn.Conv2d(n_filter, n_filter, 3, padding=1),\n",
    "                        nn.BatchNorm2d(n_filter),\n",
    "                        nn.LeakyReLU()\n",
    "                    )\n",
    "\n",
    "                    for _ in range(7)\n",
    "                ]\n",
    "            )\n",
    "        )\n",
    "        \n",
    "        _, chan, x, y = input_shape\n",
    "        \n",
    "        self.linear = nn.Sequential(\n",
    "            nn.Linear(x * y * n_filter, 1024),\n",
    "            nn.Sequential(nn.Linear(1024, 1)) if wasserstein else nn.Sequential(nn.Linear(1024, 1), nn.Sigmoid())\n",
    "        )\n",
    "                \n",
    "    def forward(self, input):\n",
    "        _, _, x, y = self.input_shape\n",
    "        \n",
    "        hid = self.layers(input).view(-1, x * y * self.n_filter)\n",
    "        out = self.linear(hid)\n",
    "        \n",
    "        return out"
   ]
  },
  {
   "cell_type": "markdown",
   "metadata": {},
   "source": [
    "## Define loss functions\n",
    "\n",
    "Can be found in [this paper](https://arxiv.org/abs/1704.00028)."
   ]
  },
  {
   "cell_type": "code",
   "execution_count": 5,
   "metadata": {},
   "outputs": [],
   "source": [
    "def gradient_penalty(disc, real_data, generated_data, device=device):\n",
    "    batch_size = real_data.size(0)\n",
    "    \n",
    "    epsilon = torch.rand(batch_size, 1, device=device, requires_grad=True)\n",
    "    epsilon_exp = epsilon.expand(batch_size, real_data.nelement()/batch_size).contiguous().view(real_data.size())\n",
    "    \n",
    "    interpolates = epsilon_exp * real_data + (1 - epsilon_exp) * generated_data\n",
    "    \n",
    "    disc_interpolates = disc(interpolates)\n",
    "    \n",
    "    gradients = autograd.grad(outputs=disc_interpolates.mean(), \n",
    "                              inputs=interpolates, \n",
    "                              create_graph=True, retain_graph=True\n",
    "    )[0]\n",
    "    \n",
    "    gradients = gradients.view(gradients.size(0), -1)\n",
    "     \n",
    "    return ((gradients.norm(2, dim=1) - 1) ** 2).mean()"
   ]
  },
  {
   "cell_type": "code",
   "execution_count": 6,
   "metadata": {},
   "outputs": [],
   "source": [
    "def wasserstein_loss(disc, real_data, fake_data, gp_lambda=10):\n",
    "    return (disc(fake_data) - disc(real_data)).mean() + gradient_penalty(disc, real_data, fake_data) * gp_lambda"
   ]
  },
  {
   "cell_type": "code",
   "execution_count": 7,
   "metadata": {},
   "outputs": [],
   "source": [
    "def cycle_loss(inputA, inputB, genA2B, genB2A):\n",
    "    cycleA = genB2A(genA2B(inputA))\n",
    "    cycleB = genA2B(genB2A(inputB))\n",
    "    \n",
    "    return ((cycleA - inputA).pow(2) + (cycleB - inputB).pow(2)).mean()"
   ]
  },
  {
   "cell_type": "code",
   "execution_count": 8,
   "metadata": {},
   "outputs": [],
   "source": [
    "def generator_combined_loss(inputA, inputB, genA2B, genB2A, discA, discB):\n",
    "    return -discA(genB2A(inputB)).mean() - discB(genA2B(inputA)).mean() + cycle_loss(inputA, inputB, genA2B, genB2A)\n",
    "\n",
    "def discriminator_combined_loss(inputA, inputB, discA, discB, genA2B, genB2A):\n",
    "    genA = genB2A(inputB)\n",
    "    genB = genA2B(inputA)\n",
    "    \n",
    "    return wasserstein_loss(discA, inputA, genA) + wasserstein_loss(discB, inputB, genB)"
   ]
  },
  {
   "cell_type": "markdown",
   "metadata": {},
   "source": [
    "## Define hyperparameters"
   ]
  },
  {
   "cell_type": "code",
   "execution_count": 9,
   "metadata": {},
   "outputs": [],
   "source": [
    "IMG_SHAPE = [1, 1, 32, 32]\n",
    "N_RESIDUAL = 4\n",
    "ADAM_PARAMS = {\"lr\": 1e-4, \"betas\": (0.5, 0.9)}"
   ]
  },
  {
   "cell_type": "markdown",
   "metadata": {},
   "source": [
    "build models"
   ]
  },
  {
   "cell_type": "code",
   "execution_count": 10,
   "metadata": {},
   "outputs": [],
   "source": [
    "generatorA2B = ResGenerator(IMG_SHAPE, n_residual=N_RESIDUAL).cuda()\n",
    "generatorB2A = ResGenerator(IMG_SHAPE, n_residual=N_RESIDUAL).cuda()\n",
    "\n",
    "discriminatorA = Discriminator(IMG_SHAPE).cuda()\n",
    "discriminatorB = Discriminator(IMG_SHAPE).cuda()\n",
    "\n",
    "adamGen = optim.Adam(list(generatorA2B.parameters()) + list(generatorB2A.parameters()), **ADAM_PARAMS)\n",
    "adamDisc = optim.Adam(list(discriminatorA.parameters()) + list(discriminatorB.parameters()), **ADAM_PARAMS)"
   ]
  },
  {
   "cell_type": "markdown",
   "metadata": {},
   "source": [
    "## Prepare dataset"
   ]
  },
  {
   "cell_type": "code",
   "execution_count": 11,
   "metadata": {},
   "outputs": [],
   "source": [
    "from lib.pic2tensor import pics2array\n",
    "import matplotlib.pyplot as plt\n",
    "%matplotlib inline\n",
    "\n",
    "import os"
   ]
  },
  {
   "cell_type": "code",
   "execution_count": 12,
   "metadata": {},
   "outputs": [],
   "source": [
    "x_dir = \"datasets/notMNIST_small/A/\"\n",
    "y_dir = \"datasets/notMNIST_small/B/\"\n",
    "\n",
    "# A's\n",
    "X = np.array(pics2array(x_dir, os.listdir(x_dir), IMG_SHAPE[2:]), dtype=\"float32\")[:, np.newaxis, :, :] / 255.\n",
    "# B's\n",
    "Y = np.array(pics2array(y_dir, os.listdir(y_dir), IMG_SHAPE[2:]), dtype=\"float32\")[:, np.newaxis, :, :] / 255."
   ]
  },
  {
   "cell_type": "markdown",
   "metadata": {},
   "source": [
    "## Training models"
   ]
  },
  {
   "cell_type": "code",
   "execution_count": 13,
   "metadata": {},
   "outputs": [],
   "source": [
    "def sample_batch(size=8, device=device):\n",
    "    xixes = np.random.randint(0, len(X) - 1, size=size)\n",
    "    yixes = np.random.randint(0, len(Y) - 1, size=size)\n",
    "    \n",
    "    return torch.tensor(X[xixes], device=device).to(device), torch.tensor(Y[yixes], device=device).to(device)"
   ]
  },
  {
   "cell_type": "code",
   "execution_count": null,
   "metadata": {
    "scrolled": false
   },
   "outputs": [
    {
     "data": {
      "image/png": "[encoded data removed]",
      "text/plain": [
       "<matplotlib.figure.Figure at 0x7f6b3666bc18>"
      ]
     },
     "metadata": {},
     "output_type": "display_data"
    },
    {
     "data": {
      "image/png": "[encoded data removed]",
      "text/plain": [
       "<matplotlib.figure.Figure at 0x7f6b366e0588>"
      ]
     },
     "metadata": {},
     "output_type": "display_data"
    },
    {
     "data": {
      "image/png": "[encoded data removed]",
      "text/plain": [
       "<matplotlib.figure.Figure at 0x7f6b365da7f0>"
      ]
     },
     "metadata": {},
     "output_type": "display_data"
    },
    {
     "name": "stderr",
     "output_type": "stream",
     "text": [
      "  1%|          | 37/5000 [01:33<3:29:24,  2.53s/it]"
     ]
    }
   ],
   "source": [
    "from tqdm import tqdm\n",
    "from IPython.display import clear_output\n",
    "\n",
    "BATCH_SIZE = 8\n",
    "N_EPOCHS = 5000\n",
    "N_DISC = 8\n",
    "DISPLAY_EPOCH = 20\n",
    "\n",
    "d_loss_hist = list()\n",
    "g_loss_hist = list()\n",
    "\n",
    "for epoch in tqdm(range(N_EPOCHS)):\n",
    "    \n",
    "    # train discriminator\n",
    "    for _ in range(N_DISC):\n",
    "        x, y = sample_batch(BATCH_SIZE)\n",
    "        d_loss = discriminator_combined_loss(x, y, discriminatorA, discriminatorB, generatorA2B, generatorB2A)\n",
    "                \n",
    "        d_loss.backward()\n",
    "        adamDisc.step()\n",
    "        adamDisc.zero_grad()\n",
    "    \n",
    "    d_loss_hist.append(d_loss)\n",
    "        \n",
    "    x, y = sample_batch(BATCH_SIZE)\n",
    "    g_loss = generator_combined_loss(x, y, generatorA2B, generatorB2A, discriminatorA, discriminatorB)\n",
    "    \n",
    "    g_loss_hist.append(g_loss)\n",
    "    \n",
    "    g_loss.backward()\n",
    "    adamGen.step()\n",
    "    adamGen.zero_grad()\n",
    "    \n",
    "    if epoch % DISPLAY_EPOCH == 0:\n",
    "        clear_output()\n",
    "        \n",
    "        plt.plot(d_loss_hist[:50])\n",
    "        plt.plot(g_loss_hist[:50])\n",
    "        plt.show()\n",
    "\n",
    "        \n",
    "        ix = np.random.randint(0, len(X))\n",
    "        expl = torch.tensor(X[ix:ix + 1]).to(device)\n",
    "\n",
    "        pic = generatorA2B(expl).data.cpu().numpy()[0, 0]\n",
    "\n",
    "        plt.imshow(X[ix, 0])\n",
    "        plt.colorbar()\n",
    "        plt.show()\n",
    "\n",
    "        plt.imshow(pic)\n",
    "        plt.colorbar()\n",
    "        plt.show()"
   ]
  },
  {
   "cell_type": "code",
   "execution_count": 15,
   "metadata": {},
   "outputs": [
    {
     "data": {
      "image/png": "[encoded data removed]",
      "text/plain": [
       "<matplotlib.figure.Figure at 0x7f6b440da4e0>"
      ]
     },
     "metadata": {},
     "output_type": "display_data"
    },
    {
     "data": {
      "text/plain": [
       "<matplotlib.colorbar.Colorbar at 0x7f6b363b96a0>"
      ]
     },
     "execution_count": 15,
     "metadata": {},
     "output_type": "execute_result"
    },
    {
     "data": {
      "image/png": "[encoded data removed]",
      "text/plain": [
       "<matplotlib.figure.Figure at 0x7f6b3640d080>"
      ]
     },
     "metadata": {},
     "output_type": "display_data"
    }
   ],
   "source": [
    "ix = np.random.randint(0, len(X))\n",
    "expl = torch.tensor(Y[ix:ix + 1]).to(device)\n",
    "\n",
    "pic = generatorA2B(expl).data.cpu().numpy()[0, 0]\n",
    "\n",
    "plt.imshow(Y[ix, 0])\n",
    "plt.colorbar()\n",
    "plt.show()\n",
    "\n",
    "plt.imshow(pic)\n",
    "plt.colorbar()"
   ]
  },
  {
   "cell_type": "code",
   "execution_count": null,
   "metadata": {},
   "outputs": [],
   "source": [
    "plt.plot()"
   ]
  },
  {
   "cell_type": "code",
   "execution_count": null,
   "metadata": {},
   "outputs": [],
   "source": []
  }
 ],
 "metadata": {
  "kernelspec": {
   "display_name": "Python 3",
   "language": "python",
   "name": "python3"
  },
  "language_info": {
   "codemirror_mode": {
    "name": "ipython",
    "version": 3
   },
   "file_extension": ".py",
   "mimetype": "text/x-python",
   "name": "python",
   "nbconvert_exporter": "python",
   "pygments_lexer": "ipython3",
   "version": "3.6.4"
  }
 },
 "nbformat": 4,
 "nbformat_minor": 2
}
