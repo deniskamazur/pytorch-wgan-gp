{
 "cells": [
  {
   "cell_type": "code",
   "execution_count": 1,
   "metadata": {
    "collapsed": true
   },
   "outputs": [],
   "source": [
    "import torch\n",
    "from torch import nn, optim, autograd\n",
    "\n",
    "import numpy as np\n",
    "\n",
    "import matplotlib.pyplot as plt\n",
    "%matplotlib inline\n",
    "\n",
    "\n",
    "device = torch.device(\"cuda:0\" if torch.cuda.is_available() else \"cpu\")"
   ]
  },
  {
   "cell_type": "code",
   "execution_count": 2,
   "metadata": {
    "collapsed": true
   },
   "outputs": [],
   "source": [
    "class ResBlock(nn.Module):\n",
    "\n",
    "    def __init__(self, n_filter=64):\n",
    "        super(ResBlock, self).__init__()\n",
    "\n",
    "        self.res_block = nn.Sequential(\n",
    "            nn.ReLU(True),\n",
    "            nn.Conv2d(n_filter, n_filter, 5, padding=2),#nn.Linear(DIM, DIM),\n",
    "            nn.ReLU(True),\n",
    "            nn.Conv2d(n_filter, n_filter, 5, padding=2),#nn.Linear(DIM, DIM),\n",
    "        )\n",
    "\n",
    "    def forward(self, input):\n",
    "        output = self.res_block(input)\n",
    "        return input + (0.3*output)"
   ]
  },
  {
   "cell_type": "code",
   "execution_count": 3,
   "metadata": {
    "collapsed": true
   },
   "outputs": [],
   "source": [
    "class ResGenerator(nn.Module):\n",
    "    def __init__(self, input_shape, n_filter=64, n_residual=7):\n",
    "        super(self.__class__, self).__init__()\n",
    "        \n",
    "        self.input_shape = input_shape\n",
    "        self.n_filter = n_filter\n",
    "        \n",
    "        self.conv1 = nn.Sequential(\n",
    "            nn.Conv2d(3, n_filter, 9, padding=4),\n",
    "            nn.LeakyReLU()\n",
    "        )\n",
    "        \n",
    "        self.residual = nn.Sequential(\n",
    "            *[ResBlock() for _ in range(n_residual)]\n",
    "        )\n",
    "        \n",
    "        self.conv2 = nn.Sequential(\n",
    "            nn.Conv2d(n_filter, n_filter, 3, padding=1),\n",
    "            nn.BatchNorm2d(n_filter),\n",
    "        )\n",
    "        \n",
    "        self.out = nn.Sequential(\n",
    "            nn.Conv2d(n_filter, 3, 3, padding=1)\n",
    "        )\n",
    "        \n",
    "    def forward(self, input):\n",
    "        conv1 = self.conv1(input)\n",
    "        res = self.residual(conv1)\n",
    "        conv2 = self.conv2(res)\n",
    "        out = self.out(conv2)\n",
    "        \n",
    "        return out"
   ]
  },
  {
   "cell_type": "code",
   "execution_count": 4,
   "metadata": {
    "collapsed": true
   },
   "outputs": [],
   "source": [
    "class Discriminator(nn.Module):\n",
    "    def __init__(self, input_shape, wasserstein=True, n_filter=64):\n",
    "        super(self.__class__, self).__init__()\n",
    "        \n",
    "        self.input_shape = input_shape\n",
    "        \n",
    "        self.wasserstein = wasserstein\n",
    "        self.n_filter = n_filter\n",
    "        \n",
    "        self.layers = nn.Sequential(\n",
    "            nn.Conv2d(3, n_filter, 3, padding=1),\n",
    "            \n",
    "            nn.Sequential(\n",
    "                *[\n",
    "                    nn.Sequential(\n",
    "                        nn.Conv2d(n_filter, n_filter, 3, padding=1),\n",
    "                        nn.BatchNorm2d(n_filter),\n",
    "                        nn.LeakyReLU()\n",
    "                    )\n",
    "\n",
    "                    for _ in range(7)\n",
    "                ]\n",
    "            )\n",
    "        )\n",
    "        \n",
    "        _, chan, x, y = input_shape\n",
    "        \n",
    "        self.linear = nn.Sequential(\n",
    "            nn.Linear(x * y * n_filter, 1024),\n",
    "            nn.Sequential(nn.Linear(1024, 1)) if wasserstein else nn.Sequential(nn.Linear(1024, 1), nn.Sigmoid())\n",
    "        )\n",
    "                \n",
    "    def forward(self, input):\n",
    "        _, _, x, y = self.input_shape\n",
    "        \n",
    "        hid = self.layers(input).view(-1, x * y * self.n_filter)\n",
    "        out = self.linear(hid)\n",
    "        \n",
    "        return out"
   ]
  },
  {
   "cell_type": "code",
   "execution_count": 5,
   "metadata": {},
   "outputs": [],
   "source": [
    "def gradient_penalty(disc, real_data, generated_data, device=device):\n",
    "    batch_size = real_data.size(0)\n",
    "    \n",
    "    epsilon = torch.rand(batch_size, 1, device=device, requires_grad=True)\n",
    "    epsilon_exp = epsilon.expand(batch_size, real_data.nelement()/batch_size).contiguous().view(real_data.size())\n",
    "    \n",
    "    interpolates = epsilon_exp * real_data + (1 - epsilon_exp) * generated_data\n",
    "    \n",
    "    disc_interpolates = disc(interpolates)\n",
    "    \n",
    "    gradients = autograd.grad(outputs=disc_interpolates.mean(), \n",
    "                              inputs=interpolates, \n",
    "                              create_graph=True, retain_graph=True\n",
    "    )[0]\n",
    "    \n",
    "    gradients = gradients.view(gradients.size(0), -1)\n",
    "\n",
    "    return ((gradients.norm(2, dim=1) - 1) ** 2).mean()"
   ]
  },
  {
   "cell_type": "code",
   "execution_count": 16,
   "metadata": {},
   "outputs": [],
   "source": [
    "def wasserstein_loss(disc, real_data, fake_data, gp_lambda=10):\n",
    "    return (disc(real_data) - disc(fake_data)).mean() + gradient_penalty(disc, real_data, fake_data) * gp_lambda"
   ]
  },
  {
   "cell_type": "code",
   "execution_count": 17,
   "metadata": {
    "collapsed": true
   },
   "outputs": [],
   "source": [
    "def sample_batch(size=16):\n",
    "    x = torch.randn(size, 3, 32, 32, device=device)\n",
    "    y = torch.randn(size, 3, 32, 32, device=device)\n",
    "    \n",
    "    return x, y"
   ]
  },
  {
   "cell_type": "code",
   "execution_count": 18,
   "metadata": {
    "collapsed": true
   },
   "outputs": [],
   "source": [
    "IMG_SHAPE = [1, 3, 32, 32]"
   ]
  },
  {
   "cell_type": "code",
   "execution_count": 21,
   "metadata": {
    "collapsed": true
   },
   "outputs": [],
   "source": [
    "generatorA2B = ResGenerator(IMG_SHAPE).cuda()\n",
    "discriminatorB = Discriminator(IMG_SHAPE).cuda()\n",
    "\n",
    "adamG = optim.Adam(generatorA2B.parameters(), lr=1e-4, betas=(0.5, 0.9))\n",
    "adamD = optim.Adam(discriminatorB.parameters(), lr=1e-4, betas=(0.5, 0.9))"
   ]
  },
  {
   "cell_type": "code",
   "execution_count": 22,
   "metadata": {},
   "outputs": [
    {
     "data": {
      "text/plain": [
       "[<matplotlib.lines.Line2D at 0x7fd7767d8b10>]"
      ]
     },
     "execution_count": 22,
     "metadata": {},
     "output_type": "execute_result"
    },
    {
     "data": {
      "image/png": "[encoded data removed]",
      "text/plain": [
       "<matplotlib.figure.Figure at 0x7fd7aa502410>"
      ]
     },
     "metadata": {},
     "output_type": "display_data"
    }
   ],
   "source": [
    "batch_size = 8\n",
    "n_epochs = 500\n",
    "d_loss_hist = list()\n",
    "\n",
    "x, y = sample_batch(batch_size)\n",
    "\n",
    "for _ in range(n_epochs):    \n",
    "    d_loss = wasserstein_loss(discriminatorB, x, y)\n",
    "    d_loss_hist.append(d_loss)\n",
    "    d_loss.backward()\n",
    "    \n",
    "    adamD.step()\n",
    "    adamD.zero_grad()\n",
    "\n",
    "d_loss_hist = [point.data.cpu().numpy() for point in d_loss_hist]\n",
    "\n",
    "plt.plot(d_loss_hist)"
   ]
  },
  {
   "cell_type": "code",
   "execution_count": 23,
   "metadata": {},
   "outputs": [],
   "source": [
    "batch_size = 8\n",
    "n_epochs = 200\n",
    "g_loss_hist = list()\n",
    "\n",
    "x, y = sample_batch(batch_size)\n",
    "\n",
    "for _ in range(n_epochs):\n",
    "    g_loss = (-discriminatorB(generatorA2B(x))).mean()\n",
    "    g_loss_hist.append(g_loss)\n",
    "    g_loss.backward()\n",
    "    \n",
    "    adamG.step()\n",
    "    adamG.zero_grad()"
   ]
  }
 ],
 "metadata": {
  "kernelspec": {
   "display_name": "Python 2",
   "language": "python",
   "name": "python2"
  },
  "language_info": {
   "codemirror_mode": {
    "name": "ipython",
    "version": 2
   },
   "file_extension": ".py",
   "mimetype": "text/x-python",
   "name": "python",
   "nbconvert_exporter": "python",
   "pygments_lexer": "ipython2",
   "version": "2.7.13"
  }
 },
 "nbformat": 4,
 "nbformat_minor": 2
}
